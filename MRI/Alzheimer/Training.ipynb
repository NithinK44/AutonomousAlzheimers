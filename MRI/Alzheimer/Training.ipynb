{
 "cells": [
  {
   "cell_type": "markdown",
   "id": "637dfba3",
   "metadata": {
    "papermill": {
     "duration": 0.005755,
     "end_time": "2023-04-04T16:39:43.067481",
     "exception": false,
     "start_time": "2023-04-04T16:39:43.061726",
     "status": "completed"
    },
    "tags": []
   },
   "source": [
    "# **LIBRARY IMPORTS**"
   ]
  },
  {
   "cell_type": "code",
   "execution_count": 1,
   "id": "d849263b",
   "metadata": {
    "_cell_guid": "b1076dfc-b9ad-4769-8c92-a6c4dae69d19",
    "_uuid": "8f2839f25d086af736a60e9eeb907d3b93b6e0e5",
    "execution": {
     "iopub.execute_input": "2023-04-04T16:39:43.078840Z",
     "iopub.status.busy": "2023-04-04T16:39:43.078457Z",
     "iopub.status.idle": "2023-04-04T16:39:50.301862Z",
     "shell.execute_reply": "2023-04-04T16:39:50.300768Z"
    },
    "papermill": {
     "duration": 7.232077,
     "end_time": "2023-04-04T16:39:50.304548",
     "exception": false,
     "start_time": "2023-04-04T16:39:43.072471",
     "status": "completed"
    },
    "tags": []
   },
   "outputs": [],
   "source": [
    "# Imports\n",
    "import numpy as np\n",
    "import pandas as pd\n",
    "import warnings \n",
    "import matplotlib.pyplot as plt\n",
    "import matplotlib.image as mpimg\n",
    "import tensorflow as tf\n",
    "import keras\n",
    "from keras.preprocessing.image import ImageDataGenerator\n",
    "import keras.preprocessing.image\n",
    "from tensorflow.keras.applications.resnet50 import ResNet50\n",
    "from keras.applications.xception import Xception\n",
    "from keras.utils.vis_utils import plot_model\n",
    "from keras.layers import Dropout, Flatten, Dense, GlobalAveragePooling2D, Average, Input, Concatenate, GlobalMaxPooling2D,Conv2D\n",
    "from IPython.display import display\n",
    "from keras.models import Model, load_model\n",
    "from sklearn.metrics import confusion_matrix\n",
    "import itertools"
   ]
  },
  {
   "cell_type": "markdown",
   "id": "c62188ea",
   "metadata": {
    "papermill": {
     "duration": 0.004356,
     "end_time": "2023-04-04T16:39:50.313962",
     "exception": false,
     "start_time": "2023-04-04T16:39:50.309606",
     "status": "completed"
    },
    "tags": []
   },
   "source": [
    "# **IMAGE RESIZING AND TRAINING RATE**\n"
   ]
  },
  {
   "cell_type": "code",
   "execution_count": 2,
   "id": "8bf5b7df",
   "metadata": {
    "execution": {
     "iopub.execute_input": "2023-04-04T16:39:50.324766Z",
     "iopub.status.busy": "2023-04-04T16:39:50.324070Z",
     "iopub.status.idle": "2023-04-04T16:39:50.504673Z",
     "shell.execute_reply": "2023-04-04T16:39:50.503387Z"
    },
    "papermill": {
     "duration": 0.188425,
     "end_time": "2023-04-04T16:39:50.506881",
     "exception": false,
     "start_time": "2023-04-04T16:39:50.318456",
     "status": "completed"
    },
    "tags": []
   },
   "outputs": [],
   "source": [
    "warnings.filterwarnings('ignore')\n",
    "IMAGE_SIZE = (128, 128)\n",
    "INPUT_SHAPE = (128, 128, 3)\n",
    "TRAINING_RATE = 0.001"
   ]
  },
  {
   "cell_type": "code",
   "execution_count": 3,
   "id": "7eb71edd",
   "metadata": {
    "execution": {
     "iopub.execute_input": "2023-04-04T16:39:50.518241Z",
     "iopub.status.busy": "2023-04-04T16:39:50.517325Z",
     "iopub.status.idle": "2023-04-04T16:39:50.522738Z",
     "shell.execute_reply": "2023-04-04T16:39:50.521867Z"
    },
    "papermill": {
     "duration": 0.013404,
     "end_time": "2023-04-04T16:39:50.525068",
     "exception": false,
     "start_time": "2023-04-04T16:39:50.511664",
     "status": "completed"
    },
    "tags": []
   },
   "outputs": [],
   "source": [
    "\n",
    "from tensorflow.keras.optimizers import Adam \n",
    "from tensorflow.keras.optimizers import SGD\n",
    "from tensorflow.keras.optimizers import RMSprop"
   ]
  },
  {
   "cell_type": "markdown",
   "id": "968ce983",
   "metadata": {
    "papermill": {
     "duration": 0.004293,
     "end_time": "2023-04-04T16:39:50.533935",
     "exception": false,
     "start_time": "2023-04-04T16:39:50.529642",
     "status": "completed"
    },
    "tags": []
   },
   "source": [
    "# **TRAINING AND TESTING DATASET LOADING**\n"
   ]
  },
  {
   "cell_type": "code",
   "execution_count": 4,
   "id": "012d5e7e",
   "metadata": {
    "execution": {
     "iopub.execute_input": "2023-04-04T16:39:50.544507Z",
     "iopub.status.busy": "2023-04-04T16:39:50.543806Z",
     "iopub.status.idle": "2023-04-04T16:40:36.113476Z",
     "shell.execute_reply": "2023-04-04T16:40:36.112368Z"
    },
    "papermill": {
     "duration": 45.577227,
     "end_time": "2023-04-04T16:40:36.115644",
     "exception": false,
     "start_time": "2023-04-04T16:39:50.538417",
     "status": "completed"
    },
    "tags": []
   },
   "outputs": [
    {
     "name": "stdout",
     "output_type": "stream",
     "text": [
      "Found 39105 images belonging to 4 classes.\n",
      "Found 6038 images belonging to 4 classes.\n"
     ]
    },
    {
     "data": {
      "text/plain": [
       "{0: 'MildDemented',\n",
       " 1: 'ModerateDemented',\n",
       " 2: 'NonDemented',\n",
       " 3: 'VeryMildDemented'}"
      ]
     },
     "execution_count": 4,
     "metadata": {},
     "output_type": "execute_result"
    }
   ],
   "source": [
    "train_datagen = ImageDataGenerator()\n",
    "validate_datagen = ImageDataGenerator()\n",
    "\n",
    "training_set = train_datagen.flow_from_directory(\n",
    "            '/kaggle/input/datasetff/Datasets/train',\n",
    "            target_size = IMAGE_SIZE,\n",
    "            class_mode = 'categorical',\n",
    "            batch_size = 15)\n",
    "\n",
    "validation_set = validate_datagen.flow_from_directory(\n",
    "            '/kaggle/input/datasetff/Datasets/test',\n",
    "            target_size = IMAGE_SIZE,\n",
    "            class_mode = 'categorical',\n",
    "            batch_size = 15)\n",
    "\n",
    "classes = {v: k for k, v in training_set.class_indices.items()}\n",
    "classes"
   ]
  },
  {
   "cell_type": "markdown",
   "id": "55357029",
   "metadata": {
    "papermill": {
     "duration": 0.004903,
     "end_time": "2023-04-04T16:40:36.125730",
     "exception": false,
     "start_time": "2023-04-04T16:40:36.120827",
     "status": "completed"
    },
    "tags": []
   },
   "source": [
    "# **XCPETION MODEL DEFINITION**\n"
   ]
  },
  {
   "cell_type": "code",
   "execution_count": 5,
   "id": "51390ff3",
   "metadata": {
    "execution": {
     "iopub.execute_input": "2023-04-04T16:40:36.136977Z",
     "iopub.status.busy": "2023-04-04T16:40:36.136676Z",
     "iopub.status.idle": "2023-04-04T16:40:41.892330Z",
     "shell.execute_reply": "2023-04-04T16:40:41.891250Z"
    },
    "papermill": {
     "duration": 5.764073,
     "end_time": "2023-04-04T16:40:41.894698",
     "exception": false,
     "start_time": "2023-04-04T16:40:36.130625",
     "status": "completed"
    },
    "tags": []
   },
   "outputs": [
    {
     "name": "stdout",
     "output_type": "stream",
     "text": [
      "Downloading data from https://storage.googleapis.com/tensorflow/keras-applications/xception/xception_weights_tf_dim_ordering_tf_kernels_notop.h5\n",
      "83683744/83683744 [==============================] - 0s 0us/step\n",
      "Model: \"model\"\n",
      "_________________________________________________________________\n",
      " Layer (type)                Output Shape              Param #   \n",
      "=================================================================\n",
      " input_1 (InputLayer)        [(None, 128, 128, 3)]     0         \n",
      "                                                                 \n",
      " xception (Functional)       (None, 4, 4, 2048)        20861480  \n",
      "                                                                 \n",
      " global_average_pooling2d (G  (None, 2048)             0         \n",
      " lobalAveragePooling2D)                                          \n",
      "                                                                 \n",
      " dropout (Dropout)           (None, 2048)              0         \n",
      "                                                                 \n",
      " dense (Dense)               (None, 4)                 8196      \n",
      "                                                                 \n",
      "=================================================================\n",
      "Total params: 20,869,676\n",
      "Trainable params: 20,815,148\n",
      "Non-trainable params: 54,528\n",
      "_________________________________________________________________\n"
     ]
    }
   ],
   "source": [
    "\n",
    "# Model\n",
    "input_shape = INPUT_SHAPE\n",
    "inputs = Input(input_shape)\n",
    "\n",
    "# Xception\n",
    "xception = Xception(include_top=False, input_shape=input_shape, weights='imagenet')(inputs)\n",
    "\n",
    "# Output\n",
    "outputs = GlobalAveragePooling2D()(xception)\n",
    "outputs = Dropout(0.5)(outputs)\n",
    "outputs = Dense(len(classes), activation='softmax')(outputs)\n",
    "\n",
    "# Optimizer\n",
    "opt1 = Adam(learning_rate=TRAINING_RATE)\n",
    "opt2 = SGD(learning_rate=TRAINING_RATE)\n",
    "opt3 = RMSprop(learning_rate=TRAINING_RATE)\n",
    "\n",
    "Xmodel = Model(inputs, outputs)\n",
    "Xmodel.compile(optimizer=opt1,\n",
    "              loss='categorical_crossentropy',\n",
    "              metrics=['accuracy','Precision','Recall','AUC'])\n",
    "\n",
    "Xmodel.summary()"
   ]
  },
  {
   "cell_type": "markdown",
   "id": "5dc3b7cb",
   "metadata": {
    "papermill": {
     "duration": 0.006601,
     "end_time": "2023-04-04T16:40:41.909083",
     "exception": false,
     "start_time": "2023-04-04T16:40:41.902482",
     "status": "completed"
    },
    "tags": []
   },
   "source": [
    "# **RESNET MODEL DEFINITION**"
   ]
  },
  {
   "cell_type": "code",
   "execution_count": 6,
   "id": "c16edd13",
   "metadata": {
    "execution": {
     "iopub.execute_input": "2023-04-04T16:40:41.923779Z",
     "iopub.status.busy": "2023-04-04T16:40:41.923478Z",
     "iopub.status.idle": "2023-04-04T16:40:44.550949Z",
     "shell.execute_reply": "2023-04-04T16:40:44.549774Z"
    },
    "papermill": {
     "duration": 2.940193,
     "end_time": "2023-04-04T16:40:44.855965",
     "exception": false,
     "start_time": "2023-04-04T16:40:41.915772",
     "status": "completed"
    },
    "tags": []
   },
   "outputs": [
    {
     "name": "stdout",
     "output_type": "stream",
     "text": [
      "Downloading data from https://storage.googleapis.com/tensorflow/keras-applications/resnet/resnet50_weights_tf_dim_ordering_tf_kernels_notop.h5\n",
      "94765736/94765736 [==============================] - 0s 0us/step\n",
      "Model: \"model_1\"\n",
      "__________________________________________________________________________________________________\n",
      " Layer (type)                   Output Shape         Param #     Connected to                     \n",
      "==================================================================================================\n",
      " input_3 (InputLayer)           [(None, 128, 128, 3  0           []                               \n",
      "                                )]                                                                \n",
      "                                                                                                  \n",
      " conv1_pad (ZeroPadding2D)      (None, 134, 134, 3)  0           ['input_3[0][0]']                \n",
      "                                                                                                  \n",
      " conv1_conv (Conv2D)            (None, 64, 64, 64)   9472        ['conv1_pad[0][0]']              \n",
      "                                                                                                  \n",
      " conv1_bn (BatchNormalization)  (None, 64, 64, 64)   256         ['conv1_conv[0][0]']             \n",
      "                                                                                                  \n",
      " conv1_relu (Activation)        (None, 64, 64, 64)   0           ['conv1_bn[0][0]']               \n",
      "                                                                                                  \n",
      " pool1_pad (ZeroPadding2D)      (None, 66, 66, 64)   0           ['conv1_relu[0][0]']             \n",
      "                                                                                                  \n",
      " pool1_pool (MaxPooling2D)      (None, 32, 32, 64)   0           ['pool1_pad[0][0]']              \n",
      "                                                                                                  \n",
      " conv2_block1_1_conv (Conv2D)   (None, 32, 32, 64)   4160        ['pool1_pool[0][0]']             \n",
      "                                                                                                  \n",
      " conv2_block1_1_bn (BatchNormal  (None, 32, 32, 64)  256         ['conv2_block1_1_conv[0][0]']    \n",
      " ization)                                                                                         \n",
      "                                                                                                  \n",
      " conv2_block1_1_relu (Activatio  (None, 32, 32, 64)  0           ['conv2_block1_1_bn[0][0]']      \n",
      " n)                                                                                               \n",
      "                                                                                                  \n",
      " conv2_block1_2_conv (Conv2D)   (None, 32, 32, 64)   36928       ['conv2_block1_1_relu[0][0]']    \n",
      "                                                                                                  \n",
      " conv2_block1_2_bn (BatchNormal  (None, 32, 32, 64)  256         ['conv2_block1_2_conv[0][0]']    \n",
      " ization)                                                                                         \n",
      "                                                                                                  \n",
      " conv2_block1_2_relu (Activatio  (None, 32, 32, 64)  0           ['conv2_block1_2_bn[0][0]']      \n",
      " n)                                                                                               \n",
      "                                                                                                  \n",
      " conv2_block1_0_conv (Conv2D)   (None, 32, 32, 256)  16640       ['pool1_pool[0][0]']             \n",
      "                                                                                                  \n",
      " conv2_block1_3_conv (Conv2D)   (None, 32, 32, 256)  16640       ['conv2_block1_2_relu[0][0]']    \n",
      "                                                                                                  \n",
      " conv2_block1_0_bn (BatchNormal  (None, 32, 32, 256)  1024       ['conv2_block1_0_conv[0][0]']    \n",
      " ization)                                                                                         \n",
      "                                                                                                  \n",
      " conv2_block1_3_bn (BatchNormal  (None, 32, 32, 256)  1024       ['conv2_block1_3_conv[0][0]']    \n",
      " ization)                                                                                         \n",
      "                                                                                                  \n",
      " conv2_block1_add (Add)         (None, 32, 32, 256)  0           ['conv2_block1_0_bn[0][0]',      \n",
      "                                                                  'conv2_block1_3_bn[0][0]']      \n",
      "                                                                                                  \n",
      " conv2_block1_out (Activation)  (None, 32, 32, 256)  0           ['conv2_block1_add[0][0]']       \n",
      "                                                                                                  \n",
      " conv2_block2_1_conv (Conv2D)   (None, 32, 32, 64)   16448       ['conv2_block1_out[0][0]']       \n",
      "                                                                                                  \n",
      " conv2_block2_1_bn (BatchNormal  (None, 32, 32, 64)  256         ['conv2_block2_1_conv[0][0]']    \n",
      " ization)                                                                                         \n",
      "                                                                                                  \n",
      " conv2_block2_1_relu (Activatio  (None, 32, 32, 64)  0           ['conv2_block2_1_bn[0][0]']      \n",
      " n)                                                                                               \n",
      "                                                                                                  \n",
      " conv2_block2_2_conv (Conv2D)   (None, 32, 32, 64)   36928       ['conv2_block2_1_relu[0][0]']    \n",
      "                                                                                                  \n",
      " conv2_block2_2_bn (BatchNormal  (None, 32, 32, 64)  256         ['conv2_block2_2_conv[0][0]']    \n",
      " ization)                                                                                         \n",
      "                                                                                                  \n",
      " conv2_block2_2_relu (Activatio  (None, 32, 32, 64)  0           ['conv2_block2_2_bn[0][0]']      \n",
      " n)                                                                                               \n",
      "                                                                                                  \n",
      " conv2_block2_3_conv (Conv2D)   (None, 32, 32, 256)  16640       ['conv2_block2_2_relu[0][0]']    \n",
      "                                                                                                  \n",
      " conv2_block2_3_bn (BatchNormal  (None, 32, 32, 256)  1024       ['conv2_block2_3_conv[0][0]']    \n",
      " ization)                                                                                         \n",
      "                                                                                                  \n",
      " conv2_block2_add (Add)         (None, 32, 32, 256)  0           ['conv2_block1_out[0][0]',       \n",
      "                                                                  'conv2_block2_3_bn[0][0]']      \n",
      "                                                                                                  \n",
      " conv2_block2_out (Activation)  (None, 32, 32, 256)  0           ['conv2_block2_add[0][0]']       \n",
      "                                                                                                  \n",
      " conv2_block3_1_conv (Conv2D)   (None, 32, 32, 64)   16448       ['conv2_block2_out[0][0]']       \n",
      "                                                                                                  \n",
      " conv2_block3_1_bn (BatchNormal  (None, 32, 32, 64)  256         ['conv2_block3_1_conv[0][0]']    \n",
      " ization)                                                                                         \n",
      "                                                                                                  \n",
      " conv2_block3_1_relu (Activatio  (None, 32, 32, 64)  0           ['conv2_block3_1_bn[0][0]']      \n",
      " n)                                                                                               \n",
      "                                                                                                  \n",
      " conv2_block3_2_conv (Conv2D)   (None, 32, 32, 64)   36928       ['conv2_block3_1_relu[0][0]']    \n",
      "                                                                                                  \n",
      " conv2_block3_2_bn (BatchNormal  (None, 32, 32, 64)  256         ['conv2_block3_2_conv[0][0]']    \n",
      " ization)                                                                                         \n",
      "                                                                                                  \n",
      " conv2_block3_2_relu (Activatio  (None, 32, 32, 64)  0           ['conv2_block3_2_bn[0][0]']      \n",
      " n)                                                                                               \n",
      "                                                                                                  \n",
      " conv2_block3_3_conv (Conv2D)   (None, 32, 32, 256)  16640       ['conv2_block3_2_relu[0][0]']    \n",
      "                                                                                                  \n",
      " conv2_block3_3_bn (BatchNormal  (None, 32, 32, 256)  1024       ['conv2_block3_3_conv[0][0]']    \n",
      " ization)                                                                                         \n",
      "                                                                                                  \n",
      " conv2_block3_add (Add)         (None, 32, 32, 256)  0           ['conv2_block2_out[0][0]',       \n",
      "                                                                  'conv2_block3_3_bn[0][0]']      \n",
      "                                                                                                  \n",
      " conv2_block3_out (Activation)  (None, 32, 32, 256)  0           ['conv2_block3_add[0][0]']       \n",
      "                                                                                                  \n",
      " conv3_block1_1_conv (Conv2D)   (None, 16, 16, 128)  32896       ['conv2_block3_out[0][0]']       \n",
      "                                                                                                  \n",
      " conv3_block1_1_bn (BatchNormal  (None, 16, 16, 128)  512        ['conv3_block1_1_conv[0][0]']    \n",
      " ization)                                                                                         \n",
      "                                                                                                  \n",
      " conv3_block1_1_relu (Activatio  (None, 16, 16, 128)  0          ['conv3_block1_1_bn[0][0]']      \n",
      " n)                                                                                               \n",
      "                                                                                                  \n",
      " conv3_block1_2_conv (Conv2D)   (None, 16, 16, 128)  147584      ['conv3_block1_1_relu[0][0]']    \n",
      "                                                                                                  \n",
      " conv3_block1_2_bn (BatchNormal  (None, 16, 16, 128)  512        ['conv3_block1_2_conv[0][0]']    \n",
      " ization)                                                                                         \n",
      "                                                                                                  \n",
      " conv3_block1_2_relu (Activatio  (None, 16, 16, 128)  0          ['conv3_block1_2_bn[0][0]']      \n",
      " n)                                                                                               \n",
      "                                                                                                  \n",
      " conv3_block1_0_conv (Conv2D)   (None, 16, 16, 512)  131584      ['conv2_block3_out[0][0]']       \n",
      "                                                                                                  \n",
      " conv3_block1_3_conv (Conv2D)   (None, 16, 16, 512)  66048       ['conv3_block1_2_relu[0][0]']    \n",
      "                                                                                                  \n",
      " conv3_block1_0_bn (BatchNormal  (None, 16, 16, 512)  2048       ['conv3_block1_0_conv[0][0]']    \n",
      " ization)                                                                                         \n",
      "                                                                                                  \n",
      " conv3_block1_3_bn (BatchNormal  (None, 16, 16, 512)  2048       ['conv3_block1_3_conv[0][0]']    \n",
      " ization)                                                                                         \n",
      "                                                                                                  \n",
      " conv3_block1_add (Add)         (None, 16, 16, 512)  0           ['conv3_block1_0_bn[0][0]',      \n",
      "                                                                  'conv3_block1_3_bn[0][0]']      \n",
      "                                                                                                  \n",
      " conv3_block1_out (Activation)  (None, 16, 16, 512)  0           ['conv3_block1_add[0][0]']       \n",
      "                                                                                                  \n",
      " conv3_block2_1_conv (Conv2D)   (None, 16, 16, 128)  65664       ['conv3_block1_out[0][0]']       \n",
      "                                                                                                  \n",
      " conv3_block2_1_bn (BatchNormal  (None, 16, 16, 128)  512        ['conv3_block2_1_conv[0][0]']    \n",
      " ization)                                                                                         \n",
      "                                                                                                  \n",
      " conv3_block2_1_relu (Activatio  (None, 16, 16, 128)  0          ['conv3_block2_1_bn[0][0]']      \n",
      " n)                                                                                               \n",
      "                                                                                                  \n",
      " conv3_block2_2_conv (Conv2D)   (None, 16, 16, 128)  147584      ['conv3_block2_1_relu[0][0]']    \n",
      "                                                                                                  \n",
      " conv3_block2_2_bn (BatchNormal  (None, 16, 16, 128)  512        ['conv3_block2_2_conv[0][0]']    \n",
      " ization)                                                                                         \n",
      "                                                                                                  \n",
      " conv3_block2_2_relu (Activatio  (None, 16, 16, 128)  0          ['conv3_block2_2_bn[0][0]']      \n",
      " n)                                                                                               \n",
      "                                                                                                  \n",
      " conv3_block2_3_conv (Conv2D)   (None, 16, 16, 512)  66048       ['conv3_block2_2_relu[0][0]']    \n",
      "                                                                                                  \n",
      " conv3_block2_3_bn (BatchNormal  (None, 16, 16, 512)  2048       ['conv3_block2_3_conv[0][0]']    \n",
      " ization)                                                                                         \n",
      "                                                                                                  \n",
      " conv3_block2_add (Add)         (None, 16, 16, 512)  0           ['conv3_block1_out[0][0]',       \n",
      "                                                                  'conv3_block2_3_bn[0][0]']      \n",
      "                                                                                                  \n",
      " conv3_block2_out (Activation)  (None, 16, 16, 512)  0           ['conv3_block2_add[0][0]']       \n",
      "                                                                                                  \n",
      " conv3_block3_1_conv (Conv2D)   (None, 16, 16, 128)  65664       ['conv3_block2_out[0][0]']       \n",
      "                                                                                                  \n",
      " conv3_block3_1_bn (BatchNormal  (None, 16, 16, 128)  512        ['conv3_block3_1_conv[0][0]']    \n",
      " ization)                                                                                         \n",
      "                                                                                                  \n",
      " conv3_block3_1_relu (Activatio  (None, 16, 16, 128)  0          ['conv3_block3_1_bn[0][0]']      \n",
      " n)                                                                                               \n",
      "                                                                                                  \n",
      " conv3_block3_2_conv (Conv2D)   (None, 16, 16, 128)  147584      ['conv3_block3_1_relu[0][0]']    \n",
      "                                                                                                  \n",
      " conv3_block3_2_bn (BatchNormal  (None, 16, 16, 128)  512        ['conv3_block3_2_conv[0][0]']    \n",
      " ization)                                                                                         \n",
      "                                                                                                  \n",
      " conv3_block3_2_relu (Activatio  (None, 16, 16, 128)  0          ['conv3_block3_2_bn[0][0]']      \n",
      " n)                                                                                               \n",
      "                                                                                                  \n",
      " conv3_block3_3_conv (Conv2D)   (None, 16, 16, 512)  66048       ['conv3_block3_2_relu[0][0]']    \n",
      "                                                                                                  \n",
      " conv3_block3_3_bn (BatchNormal  (None, 16, 16, 512)  2048       ['conv3_block3_3_conv[0][0]']    \n",
      " ization)                                                                                         \n",
      "                                                                                                  \n",
      " conv3_block3_add (Add)         (None, 16, 16, 512)  0           ['conv3_block2_out[0][0]',       \n",
      "                                                                  'conv3_block3_3_bn[0][0]']      \n",
      "                                                                                                  \n",
      " conv3_block3_out (Activation)  (None, 16, 16, 512)  0           ['conv3_block3_add[0][0]']       \n",
      "                                                                                                  \n",
      " conv3_block4_1_conv (Conv2D)   (None, 16, 16, 128)  65664       ['conv3_block3_out[0][0]']       \n",
      "                                                                                                  \n",
      " conv3_block4_1_bn (BatchNormal  (None, 16, 16, 128)  512        ['conv3_block4_1_conv[0][0]']    \n",
      " ization)                                                                                         \n",
      "                                                                                                  \n",
      " conv3_block4_1_relu (Activatio  (None, 16, 16, 128)  0          ['conv3_block4_1_bn[0][0]']      \n",
      " n)                                                                                               \n",
      "                                                                                                  \n",
      " conv3_block4_2_conv (Conv2D)   (None, 16, 16, 128)  147584      ['conv3_block4_1_relu[0][0]']    \n",
      "                                                                                                  \n",
      " conv3_block4_2_bn (BatchNormal  (None, 16, 16, 128)  512        ['conv3_block4_2_conv[0][0]']    \n",
      " ization)                                                                                         \n",
      "                                                                                                  \n",
      " conv3_block4_2_relu (Activatio  (None, 16, 16, 128)  0          ['conv3_block4_2_bn[0][0]']      \n",
      " n)                                                                                               \n",
      "                                                                                                  \n",
      " conv3_block4_3_conv (Conv2D)   (None, 16, 16, 512)  66048       ['conv3_block4_2_relu[0][0]']    \n",
      "                                                                                                  \n",
      " conv3_block4_3_bn (BatchNormal  (None, 16, 16, 512)  2048       ['conv3_block4_3_conv[0][0]']    \n",
      " ization)                                                                                         \n",
      "                                                                                                  \n",
      " conv3_block4_add (Add)         (None, 16, 16, 512)  0           ['conv3_block3_out[0][0]',       \n",
      "                                                                  'conv3_block4_3_bn[0][0]']      \n",
      "                                                                                                  \n",
      " conv3_block4_out (Activation)  (None, 16, 16, 512)  0           ['conv3_block4_add[0][0]']       \n",
      "                                                                                                  \n",
      " conv4_block1_1_conv (Conv2D)   (None, 8, 8, 256)    131328      ['conv3_block4_out[0][0]']       \n",
      "                                                                                                  \n",
      " conv4_block1_1_bn (BatchNormal  (None, 8, 8, 256)   1024        ['conv4_block1_1_conv[0][0]']    \n",
      " ization)                                                                                         \n",
      "                                                                                                  \n",
      " conv4_block1_1_relu (Activatio  (None, 8, 8, 256)   0           ['conv4_block1_1_bn[0][0]']      \n",
      " n)                                                                                               \n",
      "                                                                                                  \n",
      " conv4_block1_2_conv (Conv2D)   (None, 8, 8, 256)    590080      ['conv4_block1_1_relu[0][0]']    \n",
      "                                                                                                  \n",
      " conv4_block1_2_bn (BatchNormal  (None, 8, 8, 256)   1024        ['conv4_block1_2_conv[0][0]']    \n",
      " ization)                                                                                         \n",
      "                                                                                                  \n",
      " conv4_block1_2_relu (Activatio  (None, 8, 8, 256)   0           ['conv4_block1_2_bn[0][0]']      \n",
      " n)                                                                                               \n",
      "                                                                                                  \n",
      " conv4_block1_0_conv (Conv2D)   (None, 8, 8, 1024)   525312      ['conv3_block4_out[0][0]']       \n",
      "                                                                                                  \n",
      " conv4_block1_3_conv (Conv2D)   (None, 8, 8, 1024)   263168      ['conv4_block1_2_relu[0][0]']    \n",
      "                                                                                                  \n",
      " conv4_block1_0_bn (BatchNormal  (None, 8, 8, 1024)  4096        ['conv4_block1_0_conv[0][0]']    \n",
      " ization)                                                                                         \n",
      "                                                                                                  \n",
      " conv4_block1_3_bn (BatchNormal  (None, 8, 8, 1024)  4096        ['conv4_block1_3_conv[0][0]']    \n",
      " ization)                                                                                         \n",
      "                                                                                                  \n",
      " conv4_block1_add (Add)         (None, 8, 8, 1024)   0           ['conv4_block1_0_bn[0][0]',      \n",
      "                                                                  'conv4_block1_3_bn[0][0]']      \n",
      "                                                                                                  \n",
      " conv4_block1_out (Activation)  (None, 8, 8, 1024)   0           ['conv4_block1_add[0][0]']       \n",
      "                                                                                                  \n",
      " conv4_block2_1_conv (Conv2D)   (None, 8, 8, 256)    262400      ['conv4_block1_out[0][0]']       \n",
      "                                                                                                  \n",
      " conv4_block2_1_bn (BatchNormal  (None, 8, 8, 256)   1024        ['conv4_block2_1_conv[0][0]']    \n",
      " ization)                                                                                         \n",
      "                                                                                                  \n",
      " conv4_block2_1_relu (Activatio  (None, 8, 8, 256)   0           ['conv4_block2_1_bn[0][0]']      \n",
      " n)                                                                                               \n",
      "                                                                                                  \n",
      " conv4_block2_2_conv (Conv2D)   (None, 8, 8, 256)    590080      ['conv4_block2_1_relu[0][0]']    \n",
      "                                                                                                  \n",
      " conv4_block2_2_bn (BatchNormal  (None, 8, 8, 256)   1024        ['conv4_block2_2_conv[0][0]']    \n",
      " ization)                                                                                         \n",
      "                                                                                                  \n",
      " conv4_block2_2_relu (Activatio  (None, 8, 8, 256)   0           ['conv4_block2_2_bn[0][0]']      \n",
      " n)                                                                                               \n",
      "                                                                                                  \n",
      " conv4_block2_3_conv (Conv2D)   (None, 8, 8, 1024)   263168      ['conv4_block2_2_relu[0][0]']    \n",
      "                                                                                                  \n",
      " conv4_block2_3_bn (BatchNormal  (None, 8, 8, 1024)  4096        ['conv4_block2_3_conv[0][0]']    \n",
      " ization)                                                                                         \n",
      "                                                                                                  \n",
      " conv4_block2_add (Add)         (None, 8, 8, 1024)   0           ['conv4_block1_out[0][0]',       \n",
      "                                                                  'conv4_block2_3_bn[0][0]']      \n",
      "                                                                                                  \n",
      " conv4_block2_out (Activation)  (None, 8, 8, 1024)   0           ['conv4_block2_add[0][0]']       \n",
      "                                                                                                  \n",
      " conv4_block3_1_conv (Conv2D)   (None, 8, 8, 256)    262400      ['conv4_block2_out[0][0]']       \n",
      "                                                                                                  \n",
      " conv4_block3_1_bn (BatchNormal  (None, 8, 8, 256)   1024        ['conv4_block3_1_conv[0][0]']    \n",
      " ization)                                                                                         \n",
      "                                                                                                  \n",
      " conv4_block3_1_relu (Activatio  (None, 8, 8, 256)   0           ['conv4_block3_1_bn[0][0]']      \n",
      " n)                                                                                               \n",
      "                                                                                                  \n",
      " conv4_block3_2_conv (Conv2D)   (None, 8, 8, 256)    590080      ['conv4_block3_1_relu[0][0]']    \n",
      "                                                                                                  \n",
      " conv4_block3_2_bn (BatchNormal  (None, 8, 8, 256)   1024        ['conv4_block3_2_conv[0][0]']    \n",
      " ization)                                                                                         \n",
      "                                                                                                  \n",
      " conv4_block3_2_relu (Activatio  (None, 8, 8, 256)   0           ['conv4_block3_2_bn[0][0]']      \n",
      " n)                                                                                               \n",
      "                                                                                                  \n",
      " conv4_block3_3_conv (Conv2D)   (None, 8, 8, 1024)   263168      ['conv4_block3_2_relu[0][0]']    \n",
      "                                                                                                  \n",
      " conv4_block3_3_bn (BatchNormal  (None, 8, 8, 1024)  4096        ['conv4_block3_3_conv[0][0]']    \n",
      " ization)                                                                                         \n",
      "                                                                                                  \n",
      " conv4_block3_add (Add)         (None, 8, 8, 1024)   0           ['conv4_block2_out[0][0]',       \n",
      "                                                                  'conv4_block3_3_bn[0][0]']      \n",
      "                                                                                                  \n",
      " conv4_block3_out (Activation)  (None, 8, 8, 1024)   0           ['conv4_block3_add[0][0]']       \n",
      "                                                                                                  \n",
      " conv4_block4_1_conv (Conv2D)   (None, 8, 8, 256)    262400      ['conv4_block3_out[0][0]']       \n",
      "                                                                                                  \n",
      " conv4_block4_1_bn (BatchNormal  (None, 8, 8, 256)   1024        ['conv4_block4_1_conv[0][0]']    \n",
      " ization)                                                                                         \n",
      "                                                                                                  \n",
      " conv4_block4_1_relu (Activatio  (None, 8, 8, 256)   0           ['conv4_block4_1_bn[0][0]']      \n",
      " n)                                                                                               \n",
      "                                                                                                  \n",
      " conv4_block4_2_conv (Conv2D)   (None, 8, 8, 256)    590080      ['conv4_block4_1_relu[0][0]']    \n",
      "                                                                                                  \n",
      " conv4_block4_2_bn (BatchNormal  (None, 8, 8, 256)   1024        ['conv4_block4_2_conv[0][0]']    \n",
      " ization)                                                                                         \n",
      "                                                                                                  \n",
      " conv4_block4_2_relu (Activatio  (None, 8, 8, 256)   0           ['conv4_block4_2_bn[0][0]']      \n",
      " n)                                                                                               \n",
      "                                                                                                  \n",
      " conv4_block4_3_conv (Conv2D)   (None, 8, 8, 1024)   263168      ['conv4_block4_2_relu[0][0]']    \n",
      "                                                                                                  \n",
      " conv4_block4_3_bn (BatchNormal  (None, 8, 8, 1024)  4096        ['conv4_block4_3_conv[0][0]']    \n",
      " ization)                                                                                         \n",
      "                                                                                                  \n",
      " conv4_block4_add (Add)         (None, 8, 8, 1024)   0           ['conv4_block3_out[0][0]',       \n",
      "                                                                  'conv4_block4_3_bn[0][0]']      \n",
      "                                                                                                  \n",
      " conv4_block4_out (Activation)  (None, 8, 8, 1024)   0           ['conv4_block4_add[0][0]']       \n",
      "                                                                                                  \n",
      " conv4_block5_1_conv (Conv2D)   (None, 8, 8, 256)    262400      ['conv4_block4_out[0][0]']       \n",
      "                                                                                                  \n",
      " conv4_block5_1_bn (BatchNormal  (None, 8, 8, 256)   1024        ['conv4_block5_1_conv[0][0]']    \n",
      " ization)                                                                                         \n",
      "                                                                                                  \n",
      " conv4_block5_1_relu (Activatio  (None, 8, 8, 256)   0           ['conv4_block5_1_bn[0][0]']      \n",
      " n)                                                                                               \n",
      "                                                                                                  \n",
      " conv4_block5_2_conv (Conv2D)   (None, 8, 8, 256)    590080      ['conv4_block5_1_relu[0][0]']    \n",
      "                                                                                                  \n",
      " conv4_block5_2_bn (BatchNormal  (None, 8, 8, 256)   1024        ['conv4_block5_2_conv[0][0]']    \n",
      " ization)                                                                                         \n",
      "                                                                                                  \n",
      " conv4_block5_2_relu (Activatio  (None, 8, 8, 256)   0           ['conv4_block5_2_bn[0][0]']      \n",
      " n)                                                                                               \n",
      "                                                                                                  \n",
      " conv4_block5_3_conv (Conv2D)   (None, 8, 8, 1024)   263168      ['conv4_block5_2_relu[0][0]']    \n",
      "                                                                                                  \n",
      " conv4_block5_3_bn (BatchNormal  (None, 8, 8, 1024)  4096        ['conv4_block5_3_conv[0][0]']    \n",
      " ization)                                                                                         \n",
      "                                                                                                  \n",
      " conv4_block5_add (Add)         (None, 8, 8, 1024)   0           ['conv4_block4_out[0][0]',       \n",
      "                                                                  'conv4_block5_3_bn[0][0]']      \n",
      "                                                                                                  \n",
      " conv4_block5_out (Activation)  (None, 8, 8, 1024)   0           ['conv4_block5_add[0][0]']       \n",
      "                                                                                                  \n",
      " conv4_block6_1_conv (Conv2D)   (None, 8, 8, 256)    262400      ['conv4_block5_out[0][0]']       \n",
      "                                                                                                  \n",
      " conv4_block6_1_bn (BatchNormal  (None, 8, 8, 256)   1024        ['conv4_block6_1_conv[0][0]']    \n",
      " ization)                                                                                         \n",
      "                                                                                                  \n",
      " conv4_block6_1_relu (Activatio  (None, 8, 8, 256)   0           ['conv4_block6_1_bn[0][0]']      \n",
      " n)                                                                                               \n",
      "                                                                                                  \n",
      " conv4_block6_2_conv (Conv2D)   (None, 8, 8, 256)    590080      ['conv4_block6_1_relu[0][0]']    \n",
      "                                                                                                  \n",
      " conv4_block6_2_bn (BatchNormal  (None, 8, 8, 256)   1024        ['conv4_block6_2_conv[0][0]']    \n",
      " ization)                                                                                         \n",
      "                                                                                                  \n",
      " conv4_block6_2_relu (Activatio  (None, 8, 8, 256)   0           ['conv4_block6_2_bn[0][0]']      \n",
      " n)                                                                                               \n",
      "                                                                                                  \n",
      " conv4_block6_3_conv (Conv2D)   (None, 8, 8, 1024)   263168      ['conv4_block6_2_relu[0][0]']    \n",
      "                                                                                                  \n",
      " conv4_block6_3_bn (BatchNormal  (None, 8, 8, 1024)  4096        ['conv4_block6_3_conv[0][0]']    \n",
      " ization)                                                                                         \n",
      "                                                                                                  \n",
      " conv4_block6_add (Add)         (None, 8, 8, 1024)   0           ['conv4_block5_out[0][0]',       \n",
      "                                                                  'conv4_block6_3_bn[0][0]']      \n",
      "                                                                                                  \n",
      " conv4_block6_out (Activation)  (None, 8, 8, 1024)   0           ['conv4_block6_add[0][0]']       \n",
      "                                                                                                  \n",
      " conv5_block1_1_conv (Conv2D)   (None, 4, 4, 512)    524800      ['conv4_block6_out[0][0]']       \n",
      "                                                                                                  \n",
      " conv5_block1_1_bn (BatchNormal  (None, 4, 4, 512)   2048        ['conv5_block1_1_conv[0][0]']    \n",
      " ization)                                                                                         \n",
      "                                                                                                  \n",
      " conv5_block1_1_relu (Activatio  (None, 4, 4, 512)   0           ['conv5_block1_1_bn[0][0]']      \n",
      " n)                                                                                               \n",
      "                                                                                                  \n",
      " conv5_block1_2_conv (Conv2D)   (None, 4, 4, 512)    2359808     ['conv5_block1_1_relu[0][0]']    \n",
      "                                                                                                  \n",
      " conv5_block1_2_bn (BatchNormal  (None, 4, 4, 512)   2048        ['conv5_block1_2_conv[0][0]']    \n",
      " ization)                                                                                         \n",
      "                                                                                                  \n",
      " conv5_block1_2_relu (Activatio  (None, 4, 4, 512)   0           ['conv5_block1_2_bn[0][0]']      \n",
      " n)                                                                                               \n",
      "                                                                                                  \n",
      " conv5_block1_0_conv (Conv2D)   (None, 4, 4, 2048)   2099200     ['conv4_block6_out[0][0]']       \n",
      "                                                                                                  \n",
      " conv5_block1_3_conv (Conv2D)   (None, 4, 4, 2048)   1050624     ['conv5_block1_2_relu[0][0]']    \n",
      "                                                                                                  \n",
      " conv5_block1_0_bn (BatchNormal  (None, 4, 4, 2048)  8192        ['conv5_block1_0_conv[0][0]']    \n",
      " ization)                                                                                         \n",
      "                                                                                                  \n",
      " conv5_block1_3_bn (BatchNormal  (None, 4, 4, 2048)  8192        ['conv5_block1_3_conv[0][0]']    \n",
      " ization)                                                                                         \n",
      "                                                                                                  \n",
      " conv5_block1_add (Add)         (None, 4, 4, 2048)   0           ['conv5_block1_0_bn[0][0]',      \n",
      "                                                                  'conv5_block1_3_bn[0][0]']      \n",
      "                                                                                                  \n",
      " conv5_block1_out (Activation)  (None, 4, 4, 2048)   0           ['conv5_block1_add[0][0]']       \n",
      "                                                                                                  \n",
      " conv5_block2_1_conv (Conv2D)   (None, 4, 4, 512)    1049088     ['conv5_block1_out[0][0]']       \n",
      "                                                                                                  \n",
      " conv5_block2_1_bn (BatchNormal  (None, 4, 4, 512)   2048        ['conv5_block2_1_conv[0][0]']    \n",
      " ization)                                                                                         \n",
      "                                                                                                  \n",
      " conv5_block2_1_relu (Activatio  (None, 4, 4, 512)   0           ['conv5_block2_1_bn[0][0]']      \n",
      " n)                                                                                               \n",
      "                                                                                                  \n",
      " conv5_block2_2_conv (Conv2D)   (None, 4, 4, 512)    2359808     ['conv5_block2_1_relu[0][0]']    \n",
      "                                                                                                  \n",
      " conv5_block2_2_bn (BatchNormal  (None, 4, 4, 512)   2048        ['conv5_block2_2_conv[0][0]']    \n",
      " ization)                                                                                         \n",
      "                                                                                                  \n",
      " conv5_block2_2_relu (Activatio  (None, 4, 4, 512)   0           ['conv5_block2_2_bn[0][0]']      \n",
      " n)                                                                                               \n",
      "                                                                                                  \n",
      " conv5_block2_3_conv (Conv2D)   (None, 4, 4, 2048)   1050624     ['conv5_block2_2_relu[0][0]']    \n",
      "                                                                                                  \n",
      " conv5_block2_3_bn (BatchNormal  (None, 4, 4, 2048)  8192        ['conv5_block2_3_conv[0][0]']    \n",
      " ization)                                                                                         \n",
      "                                                                                                  \n",
      " conv5_block2_add (Add)         (None, 4, 4, 2048)   0           ['conv5_block1_out[0][0]',       \n",
      "                                                                  'conv5_block2_3_bn[0][0]']      \n",
      "                                                                                                  \n",
      " conv5_block2_out (Activation)  (None, 4, 4, 2048)   0           ['conv5_block2_add[0][0]']       \n",
      "                                                                                                  \n",
      " conv5_block3_1_conv (Conv2D)   (None, 4, 4, 512)    1049088     ['conv5_block2_out[0][0]']       \n",
      "                                                                                                  \n",
      " conv5_block3_1_bn (BatchNormal  (None, 4, 4, 512)   2048        ['conv5_block3_1_conv[0][0]']    \n",
      " ization)                                                                                         \n",
      "                                                                                                  \n",
      " conv5_block3_1_relu (Activatio  (None, 4, 4, 512)   0           ['conv5_block3_1_bn[0][0]']      \n",
      " n)                                                                                               \n",
      "                                                                                                  \n",
      " conv5_block3_2_conv (Conv2D)   (None, 4, 4, 512)    2359808     ['conv5_block3_1_relu[0][0]']    \n",
      "                                                                                                  \n",
      " conv5_block3_2_bn (BatchNormal  (None, 4, 4, 512)   2048        ['conv5_block3_2_conv[0][0]']    \n",
      " ization)                                                                                         \n",
      "                                                                                                  \n",
      " conv5_block3_2_relu (Activatio  (None, 4, 4, 512)   0           ['conv5_block3_2_bn[0][0]']      \n",
      " n)                                                                                               \n",
      "                                                                                                  \n",
      " conv5_block3_3_conv (Conv2D)   (None, 4, 4, 2048)   1050624     ['conv5_block3_2_relu[0][0]']    \n",
      "                                                                                                  \n",
      " conv5_block3_3_bn (BatchNormal  (None, 4, 4, 2048)  8192        ['conv5_block3_3_conv[0][0]']    \n",
      " ization)                                                                                         \n",
      "                                                                                                  \n",
      " conv5_block3_add (Add)         (None, 4, 4, 2048)   0           ['conv5_block2_out[0][0]',       \n",
      "                                                                  'conv5_block3_3_bn[0][0]']      \n",
      "                                                                                                  \n",
      " conv5_block3_out (Activation)  (None, 4, 4, 2048)   0           ['conv5_block3_add[0][0]']       \n",
      "                                                                                                  \n",
      " global_average_pooling2d_1 (Gl  (None, 2048)        0           ['conv5_block3_out[0][0]']       \n",
      " obalAveragePooling2D)                                                                            \n",
      "                                                                                                  \n",
      " dropout_1 (Dropout)            (None, 2048)         0           ['global_average_pooling2d_1[0][0\n",
      "                                                                 ]']                              \n",
      "                                                                                                  \n",
      " dense_1 (Dense)                (None, 4)            8196        ['dropout_1[0][0]']              \n",
      "                                                                                                  \n",
      "==================================================================================================\n",
      "Total params: 23,595,908\n",
      "Trainable params: 23,542,788\n",
      "Non-trainable params: 53,120\n",
      "__________________________________________________________________________________________________\n"
     ]
    }
   ],
   "source": [
    "input_tensor = Input(shape=INPUT_SHAPE)\n",
    "res_net = ResNet50(input_tensor=input_tensor, include_top=False, weights='imagenet')\n",
    "x = GlobalAveragePooling2D()(res_net.output)\n",
    "x = Dropout(0.5)(x)\n",
    "outputs = Dense(len(training_set.class_indices), activation='softmax')(x)\n",
    "Rmodel = Model(inputs=input_tensor, outputs=outputs)\n",
    "Rmodel.compile(\n",
    "    optimizer=SGD(learning_rate=TRAINING_RATE),\n",
    "    loss='categorical_crossentropy',\n",
    "    metrics=['accuracy','Precision','Recall','AUC']\n",
    ")\n",
    "\n",
    "Rmodel.summary()"
   ]
  },
  {
   "cell_type": "markdown",
   "id": "60eeecf6",
   "metadata": {
    "papermill": {
     "duration": 0.030922,
     "end_time": "2023-04-04T16:40:44.917760",
     "exception": false,
     "start_time": "2023-04-04T16:40:44.886838",
     "status": "completed"
    },
    "tags": []
   },
   "source": [
    "# **ENSEMBLE MODEL DEFINITION**"
   ]
  },
  {
   "cell_type": "code",
   "execution_count": 7,
   "id": "5c9ca3d4",
   "metadata": {
    "execution": {
     "iopub.execute_input": "2023-04-04T16:40:44.982413Z",
     "iopub.status.busy": "2023-04-04T16:40:44.981869Z",
     "iopub.status.idle": "2023-04-04T16:40:48.929298Z",
     "shell.execute_reply": "2023-04-04T16:40:48.928160Z"
    },
    "papermill": {
     "duration": 3.981934,
     "end_time": "2023-04-04T16:40:48.931544",
     "exception": false,
     "start_time": "2023-04-04T16:40:44.949610",
     "status": "completed"
    },
    "tags": []
   },
   "outputs": [
    {
     "name": "stdout",
     "output_type": "stream",
     "text": [
      "Model: \"model_2\"\n",
      "__________________________________________________________________________________________________\n",
      " Layer (type)                   Output Shape         Param #     Connected to                     \n",
      "==================================================================================================\n",
      " input_4 (InputLayer)           [(None, 128, 128, 3  0           []                               \n",
      "                                )]                                                                \n",
      "                                                                                                  \n",
      " xception (Functional)          (None, 4, 4, 2048)   20861480    ['input_4[0][0]']                \n",
      "                                                                                                  \n",
      " resnet50 (Functional)          (None, 4, 4, 2048)   23587712    ['input_4[0][0]']                \n",
      "                                                                                                  \n",
      " global_average_pooling2d_2 (Gl  (None, 2048)        0           ['xception[0][0]']               \n",
      " obalAveragePooling2D)                                                                            \n",
      "                                                                                                  \n",
      " global_average_pooling2d_3 (Gl  (None, 2048)        0           ['resnet50[0][0]']               \n",
      " obalAveragePooling2D)                                                                            \n",
      "                                                                                                  \n",
      " concatenate (Concatenate)      (None, 4096)         0           ['global_average_pooling2d_2[0][0\n",
      "                                                                 ]',                              \n",
      "                                                                  'global_average_pooling2d_3[0][0\n",
      "                                                                 ]']                              \n",
      "                                                                                                  \n",
      " dropout_2 (Dropout)            (None, 4096)         0           ['concatenate[0][0]']            \n",
      "                                                                                                  \n",
      " dense_2 (Dense)                (None, 4)            16388       ['dropout_2[0][0]']              \n",
      "                                                                                                  \n",
      "==================================================================================================\n",
      "Total params: 44,465,580\n",
      "Trainable params: 44,357,932\n",
      "Non-trainable params: 107,648\n",
      "__________________________________________________________________________________________________\n"
     ]
    }
   ],
   "source": [
    "#Model\n",
    "input_shape = INPUT_SHAPE\n",
    "inputs = Input(input_shape)\n",
    "input_tensor = Input(shape= (128,128,3))\n",
    "\n",
    "#xception and resnet\n",
    "xception = Xception(include_top=False, input_shape = input_shape, weights = 'imagenet')(inputs)\n",
    "res_net = ResNet50(input_tensor = input_tensor, include_top = False, weights = 'imagenet')(inputs)\n",
    "\n",
    "#output\n",
    "outputs = Concatenate(axis=-1)([GlobalAveragePooling2D()(xception), GlobalAveragePooling2D()(res_net)])\n",
    "\n",
    "outputs = Dropout(0.25)(outputs)\n",
    "outputs = Dense(len(classes), activation='softmax')(outputs)\n",
    "\n",
    "# Optimizer\n",
    "opt1 = Adam(learning_rate=TRAINING_RATE)\n",
    "opt2 = SGD(learning_rate=TRAINING_RATE)\n",
    "opt3 =RMSprop(learning_rate=TRAINING_RATE)\n",
    "\n",
    "model = Model(inputs, outputs)\n",
    "model.compile(optimizer=opt2,\n",
    "              loss='categorical_crossentropy',\n",
    "              metrics=['accuracy','Precision','Recall','AUC'])\n",
    "\n",
    "model.summary()"
   ]
  },
  {
   "cell_type": "markdown",
   "id": "c3d90636",
   "metadata": {
    "papermill": {
     "duration": 0.032035,
     "end_time": "2023-04-04T16:40:48.996317",
     "exception": false,
     "start_time": "2023-04-04T16:40:48.964282",
     "status": "completed"
    },
    "tags": []
   },
   "source": [
    "# **ALL MODEL TRAINING**"
   ]
  },
  {
   "cell_type": "code",
   "execution_count": 8,
   "id": "3f1ca8cc",
   "metadata": {
    "execution": {
     "iopub.execute_input": "2023-04-04T16:40:49.062130Z",
     "iopub.status.busy": "2023-04-04T16:40:49.061584Z",
     "iopub.status.idle": "2023-04-04T16:52:50.915934Z",
     "shell.execute_reply": "2023-04-04T16:52:50.914880Z"
    },
    "papermill": {
     "duration": 722.16154,
     "end_time": "2023-04-04T16:52:51.189978",
     "exception": false,
     "start_time": "2023-04-04T16:40:49.028438",
     "status": "completed"
    },
    "tags": []
   },
   "outputs": [
    {
     "name": "stdout",
     "output_type": "stream",
     "text": [
      "Epoch 1/10\n",
      "350/350 [==============================] - 129s 276ms/step - loss: 1.3156 - accuracy: 0.3520 - precision: 0.6372 - recall: 0.0756 - auc: 0.6327 - val_loss: 2.8550 - val_accuracy: 0.5081 - val_precision: 0.5270 - val_recall: 0.4886 - val_auc: 0.7614\n",
      "Epoch 2/10\n",
      "350/350 [==============================] - 57s 162ms/step - loss: 0.9181 - accuracy: 0.5825 - precision: 0.7151 - recall: 0.3724 - auc: 0.8476 - val_loss: 5.4669 - val_accuracy: 0.2652 - val_precision: 0.2459 - val_recall: 0.2069 - val_auc: 0.5472\n",
      "Epoch 3/10\n",
      "350/350 [==============================] - 52s 147ms/step - loss: 0.7716 - accuracy: 0.6478 - precision: 0.7163 - recall: 0.5198 - auc: 0.8904 - val_loss: 0.8621 - val_accuracy: 0.5959 - val_precision: 0.6085 - val_recall: 0.5778 - val_auc: 0.8874\n",
      "Epoch 4/10\n",
      "350/350 [==============================] - 51s 145ms/step - loss: 0.6394 - accuracy: 0.7211 - precision: 0.7580 - recall: 0.6537 - auc: 0.9268 - val_loss: 0.9322 - val_accuracy: 0.5994 - val_precision: 0.6136 - val_recall: 0.5805 - val_auc: 0.8910\n",
      "Epoch 5/10\n",
      "350/350 [==============================] - 47s 134ms/step - loss: 0.4887 - accuracy: 0.7937 - precision: 0.8203 - recall: 0.7589 - auc: 0.9562 - val_loss: 0.5366 - val_accuracy: 0.7648 - val_precision: 0.7853 - val_recall: 0.7420 - val_auc: 0.9480\n",
      "Epoch 6/10\n",
      "350/350 [==============================] - 47s 133ms/step - loss: 0.4192 - accuracy: 0.8318 - precision: 0.8535 - recall: 0.8067 - auc: 0.9681 - val_loss: 0.7754 - val_accuracy: 0.7710 - val_precision: 0.7767 - val_recall: 0.7660 - val_auc: 0.9259\n",
      "Epoch 7/10\n",
      "350/350 [==============================] - 46s 132ms/step - loss: 0.3671 - accuracy: 0.8512 - precision: 0.8647 - recall: 0.8360 - auc: 0.9749 - val_loss: 0.2400 - val_accuracy: 0.9068 - val_precision: 0.9200 - val_recall: 0.8952 - val_auc: 0.9900\n",
      "Epoch 8/10\n",
      "350/350 [==============================] - 46s 132ms/step - loss: 0.2882 - accuracy: 0.8931 - precision: 0.9028 - recall: 0.8832 - auc: 0.9839 - val_loss: 0.6642 - val_accuracy: 0.7946 - val_precision: 0.8004 - val_recall: 0.7917 - val_auc: 0.9437\n",
      "Epoch 9/10\n",
      "350/350 [==============================] - 46s 132ms/step - loss: 0.2251 - accuracy: 0.9160 - precision: 0.9241 - recall: 0.9091 - auc: 0.9898 - val_loss: 1.2091 - val_accuracy: 0.7009 - val_precision: 0.7011 - val_recall: 0.7007 - val_auc: 0.9095\n",
      "Epoch 10/10\n",
      "350/350 [==============================] - 46s 131ms/step - loss: 0.2207 - accuracy: 0.9192 - precision: 0.9286 - recall: 0.9118 - auc: 0.9905 - val_loss: 0.1100 - val_accuracy: 0.9612 - val_precision: 0.9634 - val_recall: 0.9599 - val_auc: 0.9976\n"
     ]
    }
   ],
   "source": [
    "Xception_model = Xmodel.fit(training_set,\n",
    "                    steps_per_epoch=350,\n",
    "                    epochs=10,\n",
    "                    validation_data= validation_set,\n",
    "                    validation_steps = len(validation_set))"
   ]
  },
  {
   "cell_type": "code",
   "execution_count": 9,
   "id": "3b9d6a15",
   "metadata": {
    "execution": {
     "iopub.execute_input": "2023-04-04T16:52:51.659480Z",
     "iopub.status.busy": "2023-04-04T16:52:51.659100Z",
     "iopub.status.idle": "2023-04-04T17:00:27.400559Z",
     "shell.execute_reply": "2023-04-04T17:00:27.399332Z"
    },
    "papermill": {
     "duration": 456.418412,
     "end_time": "2023-04-04T17:00:27.853677",
     "exception": false,
     "start_time": "2023-04-04T16:52:51.435265",
     "status": "completed"
    },
    "tags": []
   },
   "outputs": [
    {
     "name": "stdout",
     "output_type": "stream",
     "text": [
      "Epoch 1/10\n",
      "350/350 [==============================] - 57s 121ms/step - loss: 1.3156 - accuracy: 0.4531 - precision: 0.5092 - recall: 0.3381 - auc: 0.7180 - val_loss: 0.9190 - val_accuracy: 0.5995 - val_precision: 0.6535 - val_recall: 0.5038 - val_auc: 0.8509\n",
      "Epoch 2/10\n",
      "350/350 [==============================] - 40s 113ms/step - loss: 0.9209 - accuracy: 0.6032 - precision: 0.6612 - recall: 0.5171 - auc: 0.8539 - val_loss: 0.7391 - val_accuracy: 0.6678 - val_precision: 0.7307 - val_recall: 0.5629 - val_auc: 0.8991\n",
      "Epoch 3/10\n",
      "350/350 [==============================] - 40s 113ms/step - loss: 0.7896 - accuracy: 0.6516 - precision: 0.7072 - recall: 0.5870 - auc: 0.8908 - val_loss: 0.5781 - val_accuracy: 0.7372 - val_precision: 0.7771 - val_recall: 0.6827 - val_auc: 0.9372\n",
      "Epoch 4/10\n",
      "350/350 [==============================] - 40s 114ms/step - loss: 0.6619 - accuracy: 0.7156 - precision: 0.7563 - recall: 0.6592 - auc: 0.9216 - val_loss: 0.4780 - val_accuracy: 0.7912 - val_precision: 0.8123 - val_recall: 0.7547 - val_auc: 0.9574\n",
      "Epoch 5/10\n",
      "350/350 [==============================] - 40s 114ms/step - loss: 0.5920 - accuracy: 0.7528 - precision: 0.7901 - recall: 0.7027 - auc: 0.9373 - val_loss: 0.4140 - val_accuracy: 0.8251 - val_precision: 0.8443 - val_recall: 0.7993 - val_auc: 0.9678\n",
      "Epoch 6/10\n",
      "350/350 [==============================] - 40s 113ms/step - loss: 0.5196 - accuracy: 0.7872 - precision: 0.8224 - recall: 0.7488 - auc: 0.9519 - val_loss: 0.3437 - val_accuracy: 0.8576 - val_precision: 0.8709 - val_recall: 0.8413 - val_auc: 0.9784\n",
      "Epoch 7/10\n",
      "350/350 [==============================] - 40s 114ms/step - loss: 0.4541 - accuracy: 0.8131 - precision: 0.8373 - recall: 0.7781 - auc: 0.9630 - val_loss: 0.2356 - val_accuracy: 0.9157 - val_precision: 0.9258 - val_recall: 0.9028 - val_auc: 0.9911\n",
      "Epoch 8/10\n",
      "350/350 [==============================] - 40s 115ms/step - loss: 0.3736 - accuracy: 0.8535 - precision: 0.8722 - recall: 0.8305 - auc: 0.9751 - val_loss: 0.1793 - val_accuracy: 0.9354 - val_precision: 0.9399 - val_recall: 0.9304 - val_auc: 0.9951\n",
      "Epoch 9/10\n",
      "350/350 [==============================] - 40s 113ms/step - loss: 0.3303 - accuracy: 0.8722 - precision: 0.8901 - recall: 0.8543 - auc: 0.9804 - val_loss: 0.1499 - val_accuracy: 0.9500 - val_precision: 0.9532 - val_recall: 0.9439 - val_auc: 0.9967\n",
      "Epoch 10/10\n",
      "350/350 [==============================] - 40s 113ms/step - loss: 0.2993 - accuracy: 0.8832 - precision: 0.8980 - recall: 0.8669 - auc: 0.9836 - val_loss: 0.1532 - val_accuracy: 0.9427 - val_precision: 0.9461 - val_recall: 0.9384 - val_auc: 0.9957\n"
     ]
    }
   ],
   "source": [
    "Resnet_model = Rmodel.fit(training_set,\n",
    "                    steps_per_epoch= 350,\n",
    "                    epochs=10,\n",
    "                    validation_data= validation_set,\n",
    "                    validation_steps = len(validation_set))"
   ]
  },
  {
   "cell_type": "code",
   "execution_count": 10,
   "id": "92fe7d90",
   "metadata": {
    "execution": {
     "iopub.execute_input": "2023-04-04T17:00:28.672361Z",
     "iopub.status.busy": "2023-04-04T17:00:28.671996Z",
     "iopub.status.idle": "2023-04-04T17:58:31.066237Z",
     "shell.execute_reply": "2023-04-04T17:58:31.065114Z"
    },
    "papermill": {
     "duration": 3482.805,
     "end_time": "2023-04-04T17:58:31.069011",
     "exception": false,
     "start_time": "2023-04-04T17:00:28.264011",
     "status": "completed"
    },
    "tags": []
   },
   "outputs": [
    {
     "name": "stdout",
     "output_type": "stream",
     "text": [
      "Epoch 1/10\n",
      "2000/2000 [==============================] - 363s 169ms/step - loss: 0.7690 - accuracy: 0.6608 - precision: 0.7502 - recall: 0.5569 - auc: 0.8938 - val_loss: 0.2952 - val_accuracy: 0.8980 - val_precision: 0.9172 - val_recall: 0.8764 - val_auc: 0.9874\n",
      "Epoch 2/10\n",
      "2000/2000 [==============================] - 337s 168ms/step - loss: 0.3324 - accuracy: 0.8716 - precision: 0.8936 - recall: 0.8481 - auc: 0.9808 - val_loss: 0.1685 - val_accuracy: 0.9344 - val_precision: 0.9370 - val_recall: 0.9316 - val_auc: 0.9945\n",
      "Epoch 3/10\n",
      "2000/2000 [==============================] - 336s 168ms/step - loss: 0.1603 - accuracy: 0.9431 - precision: 0.9504 - recall: 0.9357 - auc: 0.9954 - val_loss: 0.0270 - val_accuracy: 0.9942 - val_precision: 0.9949 - val_recall: 0.9937 - val_auc: 0.9999\n",
      "Epoch 4/10\n",
      "2000/2000 [==============================] - 336s 168ms/step - loss: 0.0951 - accuracy: 0.9686 - precision: 0.9718 - recall: 0.9647 - auc: 0.9983 - val_loss: 0.0149 - val_accuracy: 0.9970 - val_precision: 0.9970 - val_recall: 0.9970 - val_auc: 1.0000\n",
      "Epoch 5/10\n",
      "2000/2000 [==============================] - 337s 168ms/step - loss: 0.0622 - accuracy: 0.9792 - precision: 0.9811 - recall: 0.9776 - auc: 0.9993 - val_loss: 0.0137 - val_accuracy: 0.9960 - val_precision: 0.9960 - val_recall: 0.9955 - val_auc: 1.0000\n",
      "Epoch 6/10\n",
      "2000/2000 [==============================] - 336s 168ms/step - loss: 0.0439 - accuracy: 0.9867 - precision: 0.9877 - recall: 0.9854 - auc: 0.9996 - val_loss: 0.0041 - val_accuracy: 0.9992 - val_precision: 0.9992 - val_recall: 0.9992 - val_auc: 1.0000\n",
      "Epoch 7/10\n",
      "2000/2000 [==============================] - 337s 169ms/step - loss: 0.0328 - accuracy: 0.9899 - precision: 0.9908 - recall: 0.9892 - auc: 0.9998 - val_loss: 0.0034 - val_accuracy: 0.9993 - val_precision: 0.9995 - val_recall: 0.9993 - val_auc: 1.0000\n",
      "Epoch 8/10\n",
      "2000/2000 [==============================] - 336s 168ms/step - loss: 0.0237 - accuracy: 0.9932 - precision: 0.9936 - recall: 0.9928 - auc: 0.9999 - val_loss: 0.0043 - val_accuracy: 0.9995 - val_precision: 0.9995 - val_recall: 0.9993 - val_auc: 1.0000\n",
      "Epoch 9/10\n",
      "2000/2000 [==============================] - 336s 168ms/step - loss: 0.0194 - accuracy: 0.9944 - precision: 0.9947 - recall: 0.9943 - auc: 0.9999 - val_loss: 0.0035 - val_accuracy: 0.9995 - val_precision: 0.9995 - val_recall: 0.9995 - val_auc: 1.0000\n",
      "Epoch 10/10\n",
      "2000/2000 [==============================] - 337s 169ms/step - loss: 0.0179 - accuracy: 0.9948 - precision: 0.9949 - recall: 0.9946 - auc: 0.9999 - val_loss: 0.0011 - val_accuracy: 0.9998 - val_precision: 0.9998 - val_recall: 0.9998 - val_auc: 1.0000\n"
     ]
    }
   ],
   "source": [
    "Final_model = model.fit(training_set,\n",
    "                    steps_per_epoch=2000 ,\n",
    "                    epochs=10,\n",
    "                    validation_data= validation_set,\n",
    "                    validation_steps = len(validation_set))"
   ]
  },
  {
   "cell_type": "code",
   "execution_count": 11,
   "id": "e7d40b4a",
   "metadata": {
    "execution": {
     "iopub.execute_input": "2023-04-04T17:58:34.316336Z",
     "iopub.status.busy": "2023-04-04T17:58:34.315982Z",
     "iopub.status.idle": "2023-04-04T17:58:35.636133Z",
     "shell.execute_reply": "2023-04-04T17:58:35.635095Z"
    },
    "papermill": {
     "duration": 2.974609,
     "end_time": "2023-04-04T17:58:35.638745",
     "exception": false,
     "start_time": "2023-04-04T17:58:32.664136",
     "status": "completed"
    },
    "tags": []
   },
   "outputs": [],
   "source": [
    "model.save(\"FModel.h5\")"
   ]
  },
  {
   "cell_type": "code",
   "execution_count": 12,
   "id": "f1f353ba",
   "metadata": {
    "execution": {
     "iopub.execute_input": "2023-04-04T17:58:38.799539Z",
     "iopub.status.busy": "2023-04-04T17:58:38.798981Z",
     "iopub.status.idle": "2023-04-04T17:58:38.824991Z",
     "shell.execute_reply": "2023-04-04T17:58:38.823667Z"
    },
    "papermill": {
     "duration": 1.62547,
     "end_time": "2023-04-04T17:58:38.827770",
     "exception": false,
     "start_time": "2023-04-04T17:58:37.202300",
     "status": "completed"
    },
    "tags": []
   },
   "outputs": [
    {
     "data": {
      "text/html": [
       "<div>\n",
       "<style scoped>\n",
       "    .dataframe tbody tr th:only-of-type {\n",
       "        vertical-align: middle;\n",
       "    }\n",
       "\n",
       "    .dataframe tbody tr th {\n",
       "        vertical-align: top;\n",
       "    }\n",
       "\n",
       "    .dataframe thead th {\n",
       "        text-align: right;\n",
       "    }\n",
       "</style>\n",
       "<table border=\"1\" class=\"dataframe\">\n",
       "  <thead>\n",
       "    <tr style=\"text-align: right;\">\n",
       "      <th></th>\n",
       "      <th>Train Acc</th>\n",
       "      <th>Val Acc</th>\n",
       "      <th>Precision</th>\n",
       "      <th>Recall</th>\n",
       "      <th>Auc</th>\n",
       "    </tr>\n",
       "  </thead>\n",
       "  <tbody>\n",
       "    <tr>\n",
       "      <th>ResNet50</th>\n",
       "      <td>0.883238</td>\n",
       "      <td>0.942696</td>\n",
       "      <td>0.897987</td>\n",
       "      <td>0.866857</td>\n",
       "      <td>0.983576</td>\n",
       "    </tr>\n",
       "    <tr>\n",
       "      <th>Xception</th>\n",
       "      <td>0.919238</td>\n",
       "      <td>0.961245</td>\n",
       "      <td>0.928613</td>\n",
       "      <td>0.911810</td>\n",
       "      <td>0.990539</td>\n",
       "    </tr>\n",
       "    <tr>\n",
       "      <th>Ensemble</th>\n",
       "      <td>0.994767</td>\n",
       "      <td>0.999834</td>\n",
       "      <td>0.994932</td>\n",
       "      <td>0.994633</td>\n",
       "      <td>0.999925</td>\n",
       "    </tr>\n",
       "  </tbody>\n",
       "</table>\n",
       "</div>"
      ],
      "text/plain": [
       "          Train Acc   Val Acc  Precision    Recall       Auc\n",
       "ResNet50   0.883238  0.942696   0.897987  0.866857  0.983576\n",
       "Xception   0.919238  0.961245   0.928613  0.911810  0.990539\n",
       "Ensemble   0.994767  0.999834   0.994932  0.994633  0.999925"
      ]
     },
     "metadata": {},
     "output_type": "display_data"
    }
   ],
   "source": [
    "accuracy_scores = {\n",
    "    'ResNet50': {'Train Acc': Resnet_model.history['accuracy'][-1],\n",
    "                 'Val Acc': Resnet_model.history['val_accuracy'][-1],\n",
    "                 'Precision': Resnet_model.history['precision'][-1],\n",
    "                 'Recall': Resnet_model.history['recall'][-1],\n",
    "                 'Auc': Resnet_model.history['auc'][-1]\n",
    "                },\n",
    "    'Xception': {'Train Acc': Xception_model.history['accuracy'][-1],\n",
    "                 'Val Acc': Xception_model.history['val_accuracy'][-1],\n",
    "                 'Precision': Xception_model.history['precision'][-1],\n",
    "                 'Recall': Xception_model.history['recall'][-1],\n",
    "                 'Auc': Xception_model.history['auc'][-1]\n",
    "                },\n",
    "    'Ensemble': {'Train Acc': Final_model.history['accuracy'][-1],\n",
    "                 'Val Acc': Final_model.history['val_accuracy'][-1],\n",
    "                 'Precision': Final_model.history['precision'][-1],\n",
    "                 'Recall': Final_model.history['recall'][-1],\n",
    "                 'Auc': Final_model.history['auc'][-1]\n",
    "                }\n",
    "    \n",
    "}\n",
    "\n",
    "\n",
    "accuracy_df = pd.DataFrame.from_dict(accuracy_scores, orient='index')\n",
    "display(accuracy_df)"
   ]
  },
  {
   "cell_type": "markdown",
   "id": "3c84a48a",
   "metadata": {
    "papermill": {
     "duration": 1.568901,
     "end_time": "2023-04-04T17:58:41.973874",
     "exception": false,
     "start_time": "2023-04-04T17:58:40.404973",
     "status": "completed"
    },
    "tags": []
   },
   "source": [
    "# **VISUALIZATION**"
   ]
  },
  {
   "cell_type": "code",
   "execution_count": 13,
   "id": "2b4f2ba4",
   "metadata": {
    "execution": {
     "iopub.execute_input": "2023-04-04T17:58:45.242955Z",
     "iopub.status.busy": "2023-04-04T17:58:45.242432Z",
     "iopub.status.idle": "2023-04-04T17:58:45.718700Z",
     "shell.execute_reply": "2023-04-04T17:58:45.717722Z"
    },
    "papermill": {
     "duration": 2.041342,
     "end_time": "2023-04-04T17:58:45.720791",
     "exception": false,
     "start_time": "2023-04-04T17:58:43.679449",
     "status": "completed"
    },
    "tags": []
   },
   "outputs": [
    {
     "data": {
      "image/png": "[encoded data removed]",
      "text/plain": [
       "<Figure size 640x480 with 1 Axes>"
      ]
     },
     "metadata": {},
     "output_type": "display_data"
    },
    {
     "data": {
      "image/png": "[encoded data removed]",
      "text/plain": [
       "<Figure size 640x480 with 1 Axes>"
      ]
     },
     "metadata": {},
     "output_type": "display_data"
    }
   ],
   "source": [
    "plt.plot(Final_model.history['accuracy'])\n",
    "plt.plot(Final_model.history['val_accuracy'])\n",
    "plt.title('model accuracy')\n",
    "plt.ylabel('accuracy')\n",
    "plt.xlabel('epoch')\n",
    "plt.legend(['train', 'test'], loc='upper left')\n",
    "plt.show()\n",
    "#loss graph\n",
    "plt.plot(Final_model.history['loss'])\n",
    "plt.plot(Final_model.history['val_loss'])\n",
    "plt.title('model loss')\n",
    "plt.ylabel('loss')\n",
    "plt.xlabel('epoch')\n",
    "plt.legend(['train', 'test'], loc='upper left')\n",
    "plt.show()"
   ]
  },
  {
   "cell_type": "markdown",
   "id": "f09c7ad5",
   "metadata": {
    "papermill": {
     "duration": 1.593636,
     "end_time": "2023-04-04T17:58:49.348926",
     "exception": false,
     "start_time": "2023-04-04T17:58:47.755290",
     "status": "completed"
    },
    "tags": []
   },
   "source": [
    "# **CONFUSION MATRIX**"
   ]
  },
  {
   "cell_type": "code",
   "execution_count": 14,
   "id": "78a88e3a",
   "metadata": {
    "execution": {
     "iopub.execute_input": "2023-04-04T17:58:52.502252Z",
     "iopub.status.busy": "2023-04-04T17:58:52.501891Z",
     "iopub.status.idle": "2023-04-04T17:58:52.725553Z",
     "shell.execute_reply": "2023-04-04T17:58:52.724594Z"
    },
    "papermill": {
     "duration": 1.802111,
     "end_time": "2023-04-04T17:58:52.727854",
     "exception": false,
     "start_time": "2023-04-04T17:58:50.925743",
     "status": "completed"
    },
    "tags": []
   },
   "outputs": [
    {
     "name": "stdout",
     "output_type": "stream",
     "text": [
      "Found 426 images belonging to 4 classes.\n"
     ]
    }
   ],
   "source": [
    "test_set = validate_datagen.flow_from_directory(\n",
    "            '/kaggle/input/datasetff/Datasets/val',\n",
    "            target_size = IMAGE_SIZE,\n",
    "            class_mode = 'categorical',\n",
    "            batch_size = 500)"
   ]
  },
  {
   "cell_type": "code",
   "execution_count": 15,
   "id": "65ce26ba",
   "metadata": {
    "execution": {
     "iopub.execute_input": "2023-04-04T17:58:56.011853Z",
     "iopub.status.busy": "2023-04-04T17:58:56.011500Z",
     "iopub.status.idle": "2023-04-04T17:59:17.439392Z",
     "shell.execute_reply": "2023-04-04T17:59:17.437932Z"
    },
    "papermill": {
     "duration": 23.150096,
     "end_time": "2023-04-04T17:59:17.443321",
     "exception": false,
     "start_time": "2023-04-04T17:58:54.293225",
     "status": "completed"
    },
    "tags": []
   },
   "outputs": [],
   "source": [
    "test_imgs, test_labels = next(test_set)\n",
    "rounded_labels = np.argmax(test_labels, axis=-1)\n",
    "test_model = load_model('/kaggle/working/FModel.h5')\n",
    "predictions = test_model.predict_generator(test_set, steps = 1, verbose=0)\n",
    "rounded_prediction = np.argmax(predictions, axis=-1)\n"
   ]
  },
  {
   "cell_type": "code",
   "execution_count": 16,
   "id": "cbffbe96",
   "metadata": {
    "execution": {
     "iopub.execute_input": "2023-04-04T17:59:21.289195Z",
     "iopub.status.busy": "2023-04-04T17:59:21.288833Z",
     "iopub.status.idle": "2023-04-04T17:59:21.295200Z",
     "shell.execute_reply": "2023-04-04T17:59:21.294132Z"
    },
    "papermill": {
     "duration": 1.640893,
     "end_time": "2023-04-04T17:59:21.297576",
     "exception": false,
     "start_time": "2023-04-04T17:59:19.656683",
     "status": "completed"
    },
    "tags": []
   },
   "outputs": [],
   "source": [
    "cm = confusion_matrix(y_true=rounded_labels, y_pred=rounded_prediction)"
   ]
  },
  {
   "cell_type": "code",
   "execution_count": 17,
   "id": "d5081290",
   "metadata": {
    "execution": {
     "iopub.execute_input": "2023-04-04T17:59:24.405163Z",
     "iopub.status.busy": "2023-04-04T17:59:24.404346Z",
     "iopub.status.idle": "2023-04-04T17:59:24.414211Z",
     "shell.execute_reply": "2023-04-04T17:59:24.413263Z"
    },
    "papermill": {
     "duration": 1.591073,
     "end_time": "2023-04-04T17:59:24.416386",
     "exception": false,
     "start_time": "2023-04-04T17:59:22.825313",
     "status": "completed"
    },
    "tags": []
   },
   "outputs": [],
   "source": [
    "def plot_confusion_matrix(cm, classes,\n",
    "                        normalize=False,\n",
    "                        title='Confusion matrix',\n",
    "                        cmap=plt.cm.Blues):\n",
    "    \"\"\"\n",
    "    This function prints and plots the confusion matrix.\n",
    "    Normalization can be applied by setting `normalize=True`.\n",
    "    \"\"\"\n",
    "    plt.imshow(cm, interpolation='nearest', cmap=cmap)\n",
    "    plt.title(title)\n",
    "    plt.colorbar()\n",
    "    tick_marks = np.arange(len(classes))\n",
    "    plt.xticks(tick_marks, classes, rotation=45)\n",
    "    plt.yticks(tick_marks, classes)\n",
    "\n",
    "    if normalize:\n",
    "        cm = cm.astype('float') / cm.sum(axis=1)[:, np.newaxis]\n",
    "        print(\"Normalized confusion matrix\")\n",
    "    else:\n",
    "        print('Confusion matrix, without normalization')\n",
    "\n",
    "    print(cm)\n",
    "\n",
    "    thresh = cm.max() / 2.\n",
    "    for i, j in itertools.product(range(cm.shape[0]), range(cm.shape[1])):\n",
    "        plt.text(j, i, cm[i, j],\n",
    "            horizontalalignment=\"center\",\n",
    "            color=\"black\" if cm[i, j] > thresh else \"black\")\n",
    "\n",
    "    plt.tight_layout()\n",
    "    plt.ylabel('True label')\n",
    "    plt.xlabel('Predicted label')"
   ]
  },
  {
   "cell_type": "code",
   "execution_count": 18,
   "id": "e27ca0b3",
   "metadata": {
    "execution": {
     "iopub.execute_input": "2023-04-04T17:59:27.589669Z",
     "iopub.status.busy": "2023-04-04T17:59:27.589193Z",
     "iopub.status.idle": "2023-04-04T17:59:27.971384Z",
     "shell.execute_reply": "2023-04-04T17:59:27.970389Z"
    },
    "papermill": {
     "duration": 1.911093,
     "end_time": "2023-04-04T17:59:27.973495",
     "exception": false,
     "start_time": "2023-04-04T17:59:26.062402",
     "status": "completed"
    },
    "tags": []
   },
   "outputs": [
    {
     "name": "stdout",
     "output_type": "stream",
     "text": [
      "Confusion matrix, without normalization\n",
      "[[ 85   0   0   0]\n",
      " [  0  64   0   0]\n",
      " [  0   0 141   0]\n",
      " [  0   0   0 136]]\n"
     ]
    },
    {
     "data": {
      "image/png": "[encoded data removed]",
      "text/plain": [
       "<Figure size 640x480 with 2 Axes>"
      ]
     },
     "metadata": {},
     "output_type": "display_data"
    }
   ],
   "source": [
    "cm_plot_labels = ['MildDemented', 'ModerateDemented', 'NonDemented', 'VeryMildDemented']\n",
    "plot_confusion_matrix(cm=cm, classes=cm_plot_labels, title='confusion_matrix')"
   ]
  },
  {
   "cell_type": "code",
   "execution_count": null,
   "id": "4cccd27c",
   "metadata": {
    "papermill": {
     "duration": 1.638311,
     "end_time": "2023-04-04T17:59:31.307817",
     "exception": false,
     "start_time": "2023-04-04T17:59:29.669506",
     "status": "completed"
    },
    "tags": []
   },
   "outputs": [],
   "source": []
  }
 ],
 "metadata": {
  "kernelspec": {
   "display_name": "Python 3",
   "language": "python",
   "name": "python3"
  },
  "language_info": {
   "codemirror_mode": {
    "name": "ipython",
    "version": 3
   },
   "file_extension": ".py",
   "mimetype": "text/x-python",
   "name": "python",
   "nbconvert_exporter": "python",
   "pygments_lexer": "ipython3",
   "version": "3.7.12"
  },
  "papermill": {
   "default_parameters": {},
   "duration": 4801.975354,
   "end_time": "2023-04-04T17:59:35.925028",
   "environment_variables": {},
   "exception": null,
   "input_path": "__notebook__.ipynb",
   "output_path": "__notebook__.ipynb",
   "parameters": {},
   "start_time": "2023-04-04T16:39:33.949674",
   "version": "2.4.0"
  }
 },
 "nbformat": 4,
 "nbformat_minor": 5
}
